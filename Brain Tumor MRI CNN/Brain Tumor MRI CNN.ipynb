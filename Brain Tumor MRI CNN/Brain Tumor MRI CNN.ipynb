{
 "cells": [
  {
   "cell_type": "code",
   "execution_count": 1,
   "id": "11ca6717",
   "metadata": {},
   "outputs": [],
   "source": [
    "import numpy as np\n",
    "import pandas as pd\n",
    "import matplotlib.pyplot as plt\n",
    "%matplotlib inline\n",
    "import tensorflow as tf\n",
    "import os\n",
    "import cv2\n",
    "from keras.preprocessing.image import ImageDataGenerator"
   ]
  },
  {
   "cell_type": "code",
   "execution_count": 2,
   "id": "bbb9744c",
   "metadata": {},
   "outputs": [],
   "source": [
    "data='brain_tumor_dataset'\n",
    "data_no='brain_tumor_dataset/no'\n",
    "data_yes='brain_tumor_dataset/yes'"
   ]
  },
  {
   "cell_type": "code",
   "execution_count": 3,
   "id": "504fb973",
   "metadata": {},
   "outputs": [
    {
     "data": {
      "text/plain": [
       "98"
      ]
     },
     "execution_count": 3,
     "metadata": {},
     "output_type": "execute_result"
    }
   ],
   "source": [
    "path,dirs,files_n = next(os.walk(data_no))\n",
    "file_n_count = len(files_n)\n",
    "file_n_count"
   ]
  },
  {
   "cell_type": "code",
   "execution_count": 4,
   "id": "b2674828",
   "metadata": {},
   "outputs": [
    {
     "data": {
      "text/plain": [
       "['brain_tumor_dataset/no/1 no.jpeg',\n",
       " 'brain_tumor_dataset/no/10 no.jpg',\n",
       " 'brain_tumor_dataset/no/11 no.jpg',\n",
       " 'brain_tumor_dataset/no/12 no.jpg',\n",
       " 'brain_tumor_dataset/no/13 no.jpg',\n",
       " 'brain_tumor_dataset/no/14 no.jpg',\n",
       " 'brain_tumor_dataset/no/15 no.jpg',\n",
       " 'brain_tumor_dataset/no/17 no.jpg',\n",
       " 'brain_tumor_dataset/no/18 no.jpg',\n",
       " 'brain_tumor_dataset/no/19 no.jpg',\n",
       " 'brain_tumor_dataset/no/2 no.jpeg',\n",
       " 'brain_tumor_dataset/no/20 no.jpg',\n",
       " 'brain_tumor_dataset/no/21 no.jpg',\n",
       " 'brain_tumor_dataset/no/22 no.jpg',\n",
       " 'brain_tumor_dataset/no/23 no.jpg',\n",
       " 'brain_tumor_dataset/no/24 no.jpg',\n",
       " 'brain_tumor_dataset/no/25 no.jpg',\n",
       " 'brain_tumor_dataset/no/26 no.jpg',\n",
       " 'brain_tumor_dataset/no/27 no.jpg',\n",
       " 'brain_tumor_dataset/no/28 no.jpg',\n",
       " 'brain_tumor_dataset/no/29 no.jpg',\n",
       " 'brain_tumor_dataset/no/3 no.jpg',\n",
       " 'brain_tumor_dataset/no/30 no.jpg',\n",
       " 'brain_tumor_dataset/no/31 no.jpg',\n",
       " 'brain_tumor_dataset/no/32 no.jpg',\n",
       " 'brain_tumor_dataset/no/33 no.jpg',\n",
       " 'brain_tumor_dataset/no/34 no.jpg',\n",
       " 'brain_tumor_dataset/no/35 no.jpg',\n",
       " 'brain_tumor_dataset/no/36 no.jpg',\n",
       " 'brain_tumor_dataset/no/37 no.jpg',\n",
       " 'brain_tumor_dataset/no/38 no.jpg',\n",
       " 'brain_tumor_dataset/no/39 no.jpg',\n",
       " 'brain_tumor_dataset/no/4 no.jpg',\n",
       " 'brain_tumor_dataset/no/40 no.jpg',\n",
       " 'brain_tumor_dataset/no/41 no.jpg',\n",
       " 'brain_tumor_dataset/no/42 no.jpg',\n",
       " 'brain_tumor_dataset/no/43 no.jpg',\n",
       " 'brain_tumor_dataset/no/44no.jpg',\n",
       " 'brain_tumor_dataset/no/45 no.jpg',\n",
       " 'brain_tumor_dataset/no/46 no.jpg',\n",
       " 'brain_tumor_dataset/no/47 no.jpg',\n",
       " 'brain_tumor_dataset/no/48 no.jpeg',\n",
       " 'brain_tumor_dataset/no/49 no.jpg',\n",
       " 'brain_tumor_dataset/no/5 no.jpg',\n",
       " 'brain_tumor_dataset/no/50 no.jpg',\n",
       " 'brain_tumor_dataset/no/6 no.jpg',\n",
       " 'brain_tumor_dataset/no/7 no.jpg',\n",
       " 'brain_tumor_dataset/no/8 no.jpg',\n",
       " 'brain_tumor_dataset/no/9 no.jpg',\n",
       " 'brain_tumor_dataset/no/N1.JPG',\n",
       " 'brain_tumor_dataset/no/N11.jpg',\n",
       " 'brain_tumor_dataset/no/N15.jpg',\n",
       " 'brain_tumor_dataset/no/N16.jpg',\n",
       " 'brain_tumor_dataset/no/N17.jpg',\n",
       " 'brain_tumor_dataset/no/N19.JPG',\n",
       " 'brain_tumor_dataset/no/N2.JPG',\n",
       " 'brain_tumor_dataset/no/N20.JPG',\n",
       " 'brain_tumor_dataset/no/N21.jpg',\n",
       " 'brain_tumor_dataset/no/N22.JPG',\n",
       " 'brain_tumor_dataset/no/N26.JPG',\n",
       " 'brain_tumor_dataset/no/N3.jpg',\n",
       " 'brain_tumor_dataset/no/N5.jpg',\n",
       " 'brain_tumor_dataset/no/N6.jpg',\n",
       " 'brain_tumor_dataset/no/no 1.jpg',\n",
       " 'brain_tumor_dataset/no/no 10.jpg',\n",
       " 'brain_tumor_dataset/no/no 100.jpg',\n",
       " 'brain_tumor_dataset/no/no 2.jpg',\n",
       " 'brain_tumor_dataset/no/no 3.jpg',\n",
       " 'brain_tumor_dataset/no/no 4.jpg',\n",
       " 'brain_tumor_dataset/no/no 5.jpeg',\n",
       " 'brain_tumor_dataset/no/no 6.jpg',\n",
       " 'brain_tumor_dataset/no/no 7.jpeg',\n",
       " 'brain_tumor_dataset/no/no 8.jpg',\n",
       " 'brain_tumor_dataset/no/no 89.jpg',\n",
       " 'brain_tumor_dataset/no/no 9.png',\n",
       " 'brain_tumor_dataset/no/no 90.jpg',\n",
       " 'brain_tumor_dataset/no/no 91.jpeg',\n",
       " 'brain_tumor_dataset/no/no 92.jpg',\n",
       " 'brain_tumor_dataset/no/no 923.jpg',\n",
       " 'brain_tumor_dataset/no/no 94.jpg',\n",
       " 'brain_tumor_dataset/no/no 95.jpg',\n",
       " 'brain_tumor_dataset/no/no 96.jpg',\n",
       " 'brain_tumor_dataset/no/no 97.jpg',\n",
       " 'brain_tumor_dataset/no/no 98.jpg',\n",
       " 'brain_tumor_dataset/no/no 99.jpg',\n",
       " 'brain_tumor_dataset/no/no.jpg',\n",
       " 'brain_tumor_dataset/no/No11.jpg',\n",
       " 'brain_tumor_dataset/no/No12.jpg',\n",
       " 'brain_tumor_dataset/no/No13.jpg',\n",
       " 'brain_tumor_dataset/no/No14.jpg',\n",
       " 'brain_tumor_dataset/no/No15.jpg',\n",
       " 'brain_tumor_dataset/no/No16.jpg',\n",
       " 'brain_tumor_dataset/no/No17.jpg',\n",
       " 'brain_tumor_dataset/no/No18.jpg',\n",
       " 'brain_tumor_dataset/no/No19.jpg',\n",
       " 'brain_tumor_dataset/no/No20.jpg',\n",
       " 'brain_tumor_dataset/no/No21.jpg',\n",
       " 'brain_tumor_dataset/no/No22.jpg']"
      ]
     },
     "execution_count": 4,
     "metadata": {},
     "output_type": "execute_result"
    }
   ],
   "source": [
    "labels_n=['No']*file_n_count\n",
    "for i in range(file_n_count):\n",
    "    files_n[i]=data_no + '/' + files_n[i]\n",
    "files_n"
   ]
  },
  {
   "cell_type": "code",
   "execution_count": 5,
   "id": "43d7ae5e",
   "metadata": {},
   "outputs": [
    {
     "data": {
      "text/plain": [
       "98"
      ]
     },
     "execution_count": 5,
     "metadata": {},
     "output_type": "execute_result"
    }
   ],
   "source": [
    "len(labels_n)"
   ]
  },
  {
   "cell_type": "code",
   "execution_count": 6,
   "id": "1ba95fc6",
   "metadata": {},
   "outputs": [
    {
     "data": {
      "text/plain": [
       "155"
      ]
     },
     "execution_count": 6,
     "metadata": {},
     "output_type": "execute_result"
    }
   ],
   "source": [
    "path,dirs,files_y = next(os.walk(data_yes))\n",
    "file_y_count = len(files_y)\n",
    "file_y_count"
   ]
  },
  {
   "cell_type": "code",
   "execution_count": 7,
   "id": "67d31a49",
   "metadata": {},
   "outputs": [
    {
     "data": {
      "text/plain": [
       "['brain_tumor_dataset/yes/Y1.jpg',\n",
       " 'brain_tumor_dataset/yes/Y10.jpg',\n",
       " 'brain_tumor_dataset/yes/Y100.JPG',\n",
       " 'brain_tumor_dataset/yes/Y101.jpg',\n",
       " 'brain_tumor_dataset/yes/Y102.jpg',\n",
       " 'brain_tumor_dataset/yes/Y103.jpg',\n",
       " 'brain_tumor_dataset/yes/Y104.jpg',\n",
       " 'brain_tumor_dataset/yes/Y105.jpg',\n",
       " 'brain_tumor_dataset/yes/Y106.jpg',\n",
       " 'brain_tumor_dataset/yes/Y107.jpg',\n",
       " 'brain_tumor_dataset/yes/Y108.jpg',\n",
       " 'brain_tumor_dataset/yes/Y109.JPG',\n",
       " 'brain_tumor_dataset/yes/Y11.jpg',\n",
       " 'brain_tumor_dataset/yes/Y111.JPG',\n",
       " 'brain_tumor_dataset/yes/Y112.JPG',\n",
       " 'brain_tumor_dataset/yes/Y113.JPG',\n",
       " 'brain_tumor_dataset/yes/Y114.JPG',\n",
       " 'brain_tumor_dataset/yes/Y115.JPG',\n",
       " 'brain_tumor_dataset/yes/Y116.JPG',\n",
       " 'brain_tumor_dataset/yes/Y117.JPG',\n",
       " 'brain_tumor_dataset/yes/Y12.jpg',\n",
       " 'brain_tumor_dataset/yes/Y120.JPG',\n",
       " 'brain_tumor_dataset/yes/Y13.jpg',\n",
       " 'brain_tumor_dataset/yes/Y14.jpg',\n",
       " 'brain_tumor_dataset/yes/Y146.JPG',\n",
       " 'brain_tumor_dataset/yes/Y147.JPG',\n",
       " 'brain_tumor_dataset/yes/Y148.JPG',\n",
       " 'brain_tumor_dataset/yes/Y15.jpg',\n",
       " 'brain_tumor_dataset/yes/Y153.jpg',\n",
       " 'brain_tumor_dataset/yes/Y154.jpg',\n",
       " 'brain_tumor_dataset/yes/Y155.JPG',\n",
       " 'brain_tumor_dataset/yes/Y156.JPG',\n",
       " 'brain_tumor_dataset/yes/Y157.JPG',\n",
       " 'brain_tumor_dataset/yes/Y158.JPG',\n",
       " 'brain_tumor_dataset/yes/Y159.JPG',\n",
       " 'brain_tumor_dataset/yes/Y16.JPG',\n",
       " 'brain_tumor_dataset/yes/Y160.JPG',\n",
       " 'brain_tumor_dataset/yes/Y161.JPG',\n",
       " 'brain_tumor_dataset/yes/Y162.jpg',\n",
       " 'brain_tumor_dataset/yes/Y163.JPG',\n",
       " 'brain_tumor_dataset/yes/Y164.JPG',\n",
       " 'brain_tumor_dataset/yes/Y165.JPG',\n",
       " 'brain_tumor_dataset/yes/Y166.JPG',\n",
       " 'brain_tumor_dataset/yes/Y167.JPG',\n",
       " 'brain_tumor_dataset/yes/Y168.jpg',\n",
       " 'brain_tumor_dataset/yes/Y169.jpg',\n",
       " 'brain_tumor_dataset/yes/Y17.jpg',\n",
       " 'brain_tumor_dataset/yes/Y170.JPG',\n",
       " 'brain_tumor_dataset/yes/Y18.JPG',\n",
       " 'brain_tumor_dataset/yes/Y180.jpg',\n",
       " 'brain_tumor_dataset/yes/Y181.jpg',\n",
       " 'brain_tumor_dataset/yes/Y182.JPG',\n",
       " 'brain_tumor_dataset/yes/Y183.jpg',\n",
       " 'brain_tumor_dataset/yes/Y184.JPG',\n",
       " 'brain_tumor_dataset/yes/Y185.jpg',\n",
       " 'brain_tumor_dataset/yes/Y186.jpg',\n",
       " 'brain_tumor_dataset/yes/Y187.jpg',\n",
       " 'brain_tumor_dataset/yes/Y188.jpg',\n",
       " 'brain_tumor_dataset/yes/Y19.JPG',\n",
       " 'brain_tumor_dataset/yes/Y192.JPG',\n",
       " 'brain_tumor_dataset/yes/Y193.JPG',\n",
       " 'brain_tumor_dataset/yes/Y194.jpg',\n",
       " 'brain_tumor_dataset/yes/Y195.JPG',\n",
       " 'brain_tumor_dataset/yes/Y2.jpg',\n",
       " 'brain_tumor_dataset/yes/Y20.jpg',\n",
       " 'brain_tumor_dataset/yes/Y21.jpg',\n",
       " 'brain_tumor_dataset/yes/Y22.jpg',\n",
       " 'brain_tumor_dataset/yes/Y23.JPG',\n",
       " 'brain_tumor_dataset/yes/Y24.jpg',\n",
       " 'brain_tumor_dataset/yes/Y242.JPG',\n",
       " 'brain_tumor_dataset/yes/Y243.JPG',\n",
       " 'brain_tumor_dataset/yes/Y244.JPG',\n",
       " 'brain_tumor_dataset/yes/Y245.jpg',\n",
       " 'brain_tumor_dataset/yes/Y246.JPG',\n",
       " 'brain_tumor_dataset/yes/Y247.JPG',\n",
       " 'brain_tumor_dataset/yes/Y248.JPG',\n",
       " 'brain_tumor_dataset/yes/Y249.JPG',\n",
       " 'brain_tumor_dataset/yes/Y25.jpg',\n",
       " 'brain_tumor_dataset/yes/Y250.jpg',\n",
       " 'brain_tumor_dataset/yes/Y251.JPG',\n",
       " 'brain_tumor_dataset/yes/Y252.jpg',\n",
       " 'brain_tumor_dataset/yes/Y253.JPG',\n",
       " 'brain_tumor_dataset/yes/Y254.jpg',\n",
       " 'brain_tumor_dataset/yes/Y255.JPG',\n",
       " 'brain_tumor_dataset/yes/Y256.JPG',\n",
       " 'brain_tumor_dataset/yes/Y257.jpg',\n",
       " 'brain_tumor_dataset/yes/Y258.JPG',\n",
       " 'brain_tumor_dataset/yes/Y259.JPG',\n",
       " 'brain_tumor_dataset/yes/Y26.jpg',\n",
       " 'brain_tumor_dataset/yes/Y27.jpg',\n",
       " 'brain_tumor_dataset/yes/Y28.jpg',\n",
       " 'brain_tumor_dataset/yes/Y29.jpg',\n",
       " 'brain_tumor_dataset/yes/Y3.jpg',\n",
       " 'brain_tumor_dataset/yes/Y30.jpg',\n",
       " 'brain_tumor_dataset/yes/Y31.jpg',\n",
       " 'brain_tumor_dataset/yes/Y32.jpg',\n",
       " 'brain_tumor_dataset/yes/Y33.jpg',\n",
       " 'brain_tumor_dataset/yes/Y34.jpg',\n",
       " 'brain_tumor_dataset/yes/Y35.jpg',\n",
       " 'brain_tumor_dataset/yes/Y36.JPG',\n",
       " 'brain_tumor_dataset/yes/Y37.jpg',\n",
       " 'brain_tumor_dataset/yes/Y38.jpg',\n",
       " 'brain_tumor_dataset/yes/Y39.jpg',\n",
       " 'brain_tumor_dataset/yes/Y4.jpg',\n",
       " 'brain_tumor_dataset/yes/Y40.JPG',\n",
       " 'brain_tumor_dataset/yes/Y41.jpg',\n",
       " 'brain_tumor_dataset/yes/Y42.jpg',\n",
       " 'brain_tumor_dataset/yes/Y44.JPG',\n",
       " 'brain_tumor_dataset/yes/Y45.JPG',\n",
       " 'brain_tumor_dataset/yes/Y46.jpg',\n",
       " 'brain_tumor_dataset/yes/Y47.JPG',\n",
       " 'brain_tumor_dataset/yes/Y49.JPG',\n",
       " 'brain_tumor_dataset/yes/Y50.JPG',\n",
       " 'brain_tumor_dataset/yes/Y51.jpg',\n",
       " 'brain_tumor_dataset/yes/Y52.jpg',\n",
       " 'brain_tumor_dataset/yes/Y53.jpg',\n",
       " 'brain_tumor_dataset/yes/Y54.jpg',\n",
       " 'brain_tumor_dataset/yes/Y55.jpg',\n",
       " 'brain_tumor_dataset/yes/Y56.jpg',\n",
       " 'brain_tumor_dataset/yes/Y58.JPG',\n",
       " 'brain_tumor_dataset/yes/Y59.JPG',\n",
       " 'brain_tumor_dataset/yes/Y6.jpg',\n",
       " 'brain_tumor_dataset/yes/Y60.jpg',\n",
       " 'brain_tumor_dataset/yes/Y61.jpg',\n",
       " 'brain_tumor_dataset/yes/Y62.jpg',\n",
       " 'brain_tumor_dataset/yes/Y65.JPG',\n",
       " 'brain_tumor_dataset/yes/Y66.JPG',\n",
       " 'brain_tumor_dataset/yes/Y67.JPG',\n",
       " 'brain_tumor_dataset/yes/Y69.jpg',\n",
       " 'brain_tumor_dataset/yes/Y7.jpg',\n",
       " 'brain_tumor_dataset/yes/Y70.jpg',\n",
       " 'brain_tumor_dataset/yes/Y71.JPG',\n",
       " 'brain_tumor_dataset/yes/Y73.jpg',\n",
       " 'brain_tumor_dataset/yes/Y74.jpg',\n",
       " 'brain_tumor_dataset/yes/Y75.JPG',\n",
       " 'brain_tumor_dataset/yes/Y76.jpg',\n",
       " 'brain_tumor_dataset/yes/Y77.jpg',\n",
       " 'brain_tumor_dataset/yes/Y78.jpg',\n",
       " 'brain_tumor_dataset/yes/Y79.jpg',\n",
       " 'brain_tumor_dataset/yes/Y8.jpg',\n",
       " 'brain_tumor_dataset/yes/Y81.jpg',\n",
       " 'brain_tumor_dataset/yes/Y82.jpg',\n",
       " 'brain_tumor_dataset/yes/Y85.JPG',\n",
       " 'brain_tumor_dataset/yes/Y86.JPG',\n",
       " 'brain_tumor_dataset/yes/Y89.JPG',\n",
       " 'brain_tumor_dataset/yes/Y9.jpg',\n",
       " 'brain_tumor_dataset/yes/Y90.jpg',\n",
       " 'brain_tumor_dataset/yes/Y91.jpg',\n",
       " 'brain_tumor_dataset/yes/Y92.jpg',\n",
       " 'brain_tumor_dataset/yes/Y92.png',\n",
       " 'brain_tumor_dataset/yes/Y95.jpg',\n",
       " 'brain_tumor_dataset/yes/Y96.jpg',\n",
       " 'brain_tumor_dataset/yes/Y97.JPG',\n",
       " 'brain_tumor_dataset/yes/Y98.JPG',\n",
       " 'brain_tumor_dataset/yes/Y99.JPG']"
      ]
     },
     "execution_count": 7,
     "metadata": {},
     "output_type": "execute_result"
    }
   ],
   "source": [
    "labels_y=['Yes']*file_y_count\n",
    "for i in range(file_y_count):\n",
    "    files_y[i]=data_yes + '/' + files_y[i]\n",
    "files_y"
   ]
  },
  {
   "cell_type": "code",
   "execution_count": 8,
   "id": "de3ebf87",
   "metadata": {},
   "outputs": [
    {
     "data": {
      "text/plain": [
       "['Yes',\n",
       " 'Yes',\n",
       " 'Yes',\n",
       " 'Yes',\n",
       " 'Yes',\n",
       " 'Yes',\n",
       " 'Yes',\n",
       " 'Yes',\n",
       " 'Yes',\n",
       " 'Yes',\n",
       " 'Yes',\n",
       " 'Yes',\n",
       " 'Yes',\n",
       " 'Yes',\n",
       " 'Yes',\n",
       " 'Yes',\n",
       " 'Yes',\n",
       " 'Yes',\n",
       " 'Yes',\n",
       " 'Yes',\n",
       " 'Yes',\n",
       " 'Yes',\n",
       " 'Yes',\n",
       " 'Yes',\n",
       " 'Yes',\n",
       " 'Yes',\n",
       " 'Yes',\n",
       " 'Yes',\n",
       " 'Yes',\n",
       " 'Yes',\n",
       " 'Yes',\n",
       " 'Yes',\n",
       " 'Yes',\n",
       " 'Yes',\n",
       " 'Yes',\n",
       " 'Yes',\n",
       " 'Yes',\n",
       " 'Yes',\n",
       " 'Yes',\n",
       " 'Yes',\n",
       " 'Yes',\n",
       " 'Yes',\n",
       " 'Yes',\n",
       " 'Yes',\n",
       " 'Yes',\n",
       " 'Yes',\n",
       " 'Yes',\n",
       " 'Yes',\n",
       " 'Yes',\n",
       " 'Yes',\n",
       " 'Yes',\n",
       " 'Yes',\n",
       " 'Yes',\n",
       " 'Yes',\n",
       " 'Yes',\n",
       " 'Yes',\n",
       " 'Yes',\n",
       " 'Yes',\n",
       " 'Yes',\n",
       " 'Yes',\n",
       " 'Yes',\n",
       " 'Yes',\n",
       " 'Yes',\n",
       " 'Yes',\n",
       " 'Yes',\n",
       " 'Yes',\n",
       " 'Yes',\n",
       " 'Yes',\n",
       " 'Yes',\n",
       " 'Yes',\n",
       " 'Yes',\n",
       " 'Yes',\n",
       " 'Yes',\n",
       " 'Yes',\n",
       " 'Yes',\n",
       " 'Yes',\n",
       " 'Yes',\n",
       " 'Yes',\n",
       " 'Yes',\n",
       " 'Yes',\n",
       " 'Yes',\n",
       " 'Yes',\n",
       " 'Yes',\n",
       " 'Yes',\n",
       " 'Yes',\n",
       " 'Yes',\n",
       " 'Yes',\n",
       " 'Yes',\n",
       " 'Yes',\n",
       " 'Yes',\n",
       " 'Yes',\n",
       " 'Yes',\n",
       " 'Yes',\n",
       " 'Yes',\n",
       " 'Yes',\n",
       " 'Yes',\n",
       " 'Yes',\n",
       " 'Yes',\n",
       " 'Yes',\n",
       " 'Yes',\n",
       " 'Yes',\n",
       " 'Yes',\n",
       " 'Yes',\n",
       " 'Yes',\n",
       " 'Yes',\n",
       " 'Yes',\n",
       " 'Yes',\n",
       " 'Yes',\n",
       " 'Yes',\n",
       " 'Yes',\n",
       " 'Yes',\n",
       " 'Yes',\n",
       " 'Yes',\n",
       " 'Yes',\n",
       " 'Yes',\n",
       " 'Yes',\n",
       " 'Yes',\n",
       " 'Yes',\n",
       " 'Yes',\n",
       " 'Yes',\n",
       " 'Yes',\n",
       " 'Yes',\n",
       " 'Yes',\n",
       " 'Yes',\n",
       " 'Yes',\n",
       " 'Yes',\n",
       " 'Yes',\n",
       " 'Yes',\n",
       " 'Yes',\n",
       " 'Yes',\n",
       " 'Yes',\n",
       " 'Yes',\n",
       " 'Yes',\n",
       " 'Yes',\n",
       " 'Yes',\n",
       " 'Yes',\n",
       " 'Yes',\n",
       " 'Yes',\n",
       " 'Yes',\n",
       " 'Yes',\n",
       " 'Yes',\n",
       " 'Yes',\n",
       " 'Yes',\n",
       " 'Yes',\n",
       " 'Yes',\n",
       " 'Yes',\n",
       " 'Yes',\n",
       " 'Yes',\n",
       " 'Yes',\n",
       " 'Yes',\n",
       " 'Yes',\n",
       " 'Yes',\n",
       " 'Yes',\n",
       " 'Yes',\n",
       " 'Yes']"
      ]
     },
     "execution_count": 8,
     "metadata": {},
     "output_type": "execute_result"
    }
   ],
   "source": [
    "labels_y"
   ]
  },
  {
   "cell_type": "code",
   "execution_count": 9,
   "id": "067121ae",
   "metadata": {},
   "outputs": [],
   "source": [
    "Files=pd.Series(files_n + files_y,name='Filepaths')\n",
    "Label=pd.Series(labels_n + labels_y,name='Labels')"
   ]
  },
  {
   "cell_type": "code",
   "execution_count": 10,
   "id": "33969eb8",
   "metadata": {},
   "outputs": [
    {
     "data": {
      "text/plain": [
       "0      brain_tumor_dataset/no/1 no.jpeg\n",
       "1      brain_tumor_dataset/no/10 no.jpg\n",
       "2      brain_tumor_dataset/no/11 no.jpg\n",
       "3      brain_tumor_dataset/no/12 no.jpg\n",
       "4      brain_tumor_dataset/no/13 no.jpg\n",
       "                     ...               \n",
       "248     brain_tumor_dataset/yes/Y95.jpg\n",
       "249     brain_tumor_dataset/yes/Y96.jpg\n",
       "250     brain_tumor_dataset/yes/Y97.JPG\n",
       "251     brain_tumor_dataset/yes/Y98.JPG\n",
       "252     brain_tumor_dataset/yes/Y99.JPG\n",
       "Name: Filepaths, Length: 253, dtype: object"
      ]
     },
     "execution_count": 10,
     "metadata": {},
     "output_type": "execute_result"
    }
   ],
   "source": [
    "Files"
   ]
  },
  {
   "cell_type": "code",
   "execution_count": 11,
   "id": "eab0c9ce",
   "metadata": {},
   "outputs": [
    {
     "data": {
      "text/plain": [
       "0       No\n",
       "1       No\n",
       "2       No\n",
       "3       No\n",
       "4       No\n",
       "      ... \n",
       "248    Yes\n",
       "249    Yes\n",
       "250    Yes\n",
       "251    Yes\n",
       "252    Yes\n",
       "Name: Labels, Length: 253, dtype: object"
      ]
     },
     "execution_count": 11,
     "metadata": {},
     "output_type": "execute_result"
    }
   ],
   "source": [
    "Label"
   ]
  },
  {
   "cell_type": "code",
   "execution_count": 12,
   "id": "97f0b24e",
   "metadata": {},
   "outputs": [],
   "source": [
    "df=pd.DataFrame({\"Filepaths\":np.array(Files).reshape(253,),'Label':np.array(Label).reshape(253,)})"
   ]
  },
  {
   "cell_type": "code",
   "execution_count": 13,
   "id": "05b86402",
   "metadata": {},
   "outputs": [
    {
     "data": {
      "text/html": [
       "<div>\n",
       "<style scoped>\n",
       "    .dataframe tbody tr th:only-of-type {\n",
       "        vertical-align: middle;\n",
       "    }\n",
       "\n",
       "    .dataframe tbody tr th {\n",
       "        vertical-align: top;\n",
       "    }\n",
       "\n",
       "    .dataframe thead th {\n",
       "        text-align: right;\n",
       "    }\n",
       "</style>\n",
       "<table border=\"1\" class=\"dataframe\">\n",
       "  <thead>\n",
       "    <tr style=\"text-align: right;\">\n",
       "      <th></th>\n",
       "      <th>Filepaths</th>\n",
       "      <th>Label</th>\n",
       "    </tr>\n",
       "  </thead>\n",
       "  <tbody>\n",
       "    <tr>\n",
       "      <th>0</th>\n",
       "      <td>brain_tumor_dataset/no/1 no.jpeg</td>\n",
       "      <td>No</td>\n",
       "    </tr>\n",
       "    <tr>\n",
       "      <th>1</th>\n",
       "      <td>brain_tumor_dataset/no/10 no.jpg</td>\n",
       "      <td>No</td>\n",
       "    </tr>\n",
       "    <tr>\n",
       "      <th>2</th>\n",
       "      <td>brain_tumor_dataset/no/11 no.jpg</td>\n",
       "      <td>No</td>\n",
       "    </tr>\n",
       "    <tr>\n",
       "      <th>3</th>\n",
       "      <td>brain_tumor_dataset/no/12 no.jpg</td>\n",
       "      <td>No</td>\n",
       "    </tr>\n",
       "    <tr>\n",
       "      <th>4</th>\n",
       "      <td>brain_tumor_dataset/no/13 no.jpg</td>\n",
       "      <td>No</td>\n",
       "    </tr>\n",
       "    <tr>\n",
       "      <th>...</th>\n",
       "      <td>...</td>\n",
       "      <td>...</td>\n",
       "    </tr>\n",
       "    <tr>\n",
       "      <th>248</th>\n",
       "      <td>brain_tumor_dataset/yes/Y95.jpg</td>\n",
       "      <td>Yes</td>\n",
       "    </tr>\n",
       "    <tr>\n",
       "      <th>249</th>\n",
       "      <td>brain_tumor_dataset/yes/Y96.jpg</td>\n",
       "      <td>Yes</td>\n",
       "    </tr>\n",
       "    <tr>\n",
       "      <th>250</th>\n",
       "      <td>brain_tumor_dataset/yes/Y97.JPG</td>\n",
       "      <td>Yes</td>\n",
       "    </tr>\n",
       "    <tr>\n",
       "      <th>251</th>\n",
       "      <td>brain_tumor_dataset/yes/Y98.JPG</td>\n",
       "      <td>Yes</td>\n",
       "    </tr>\n",
       "    <tr>\n",
       "      <th>252</th>\n",
       "      <td>brain_tumor_dataset/yes/Y99.JPG</td>\n",
       "      <td>Yes</td>\n",
       "    </tr>\n",
       "  </tbody>\n",
       "</table>\n",
       "<p>253 rows × 2 columns</p>\n",
       "</div>"
      ],
      "text/plain": [
       "                            Filepaths Label\n",
       "0    brain_tumor_dataset/no/1 no.jpeg    No\n",
       "1    brain_tumor_dataset/no/10 no.jpg    No\n",
       "2    brain_tumor_dataset/no/11 no.jpg    No\n",
       "3    brain_tumor_dataset/no/12 no.jpg    No\n",
       "4    brain_tumor_dataset/no/13 no.jpg    No\n",
       "..                                ...   ...\n",
       "248   brain_tumor_dataset/yes/Y95.jpg   Yes\n",
       "249   brain_tumor_dataset/yes/Y96.jpg   Yes\n",
       "250   brain_tumor_dataset/yes/Y97.JPG   Yes\n",
       "251   brain_tumor_dataset/yes/Y98.JPG   Yes\n",
       "252   brain_tumor_dataset/yes/Y99.JPG   Yes\n",
       "\n",
       "[253 rows x 2 columns]"
      ]
     },
     "execution_count": 13,
     "metadata": {},
     "output_type": "execute_result"
    }
   ],
   "source": [
    "df"
   ]
  },
  {
   "cell_type": "code",
   "execution_count": 14,
   "id": "f3ce81d7",
   "metadata": {},
   "outputs": [
    {
     "data": {
      "text/plain": [
       "Yes    155\n",
       "No      98\n",
       "Name: Label, dtype: int64"
      ]
     },
     "execution_count": 14,
     "metadata": {},
     "output_type": "execute_result"
    }
   ],
   "source": [
    "df['Label'].value_counts()"
   ]
  },
  {
   "cell_type": "code",
   "execution_count": 15,
   "id": "43d65d1c",
   "metadata": {},
   "outputs": [],
   "source": [
    "#split in train test valid\n",
    "from sklearn.model_selection import train_test_split\n",
    "train,test=train_test_split(df,test_size=0.2,random_state=0)\n",
    "train_new,valid=train_test_split(train,train_size=0.8,random_state=0)"
   ]
  },
  {
   "cell_type": "code",
   "execution_count": 16,
   "id": "ed61b31c",
   "metadata": {},
   "outputs": [
    {
     "data": {
      "text/plain": [
       "(161, 2)"
      ]
     },
     "execution_count": 16,
     "metadata": {},
     "output_type": "execute_result"
    }
   ],
   "source": [
    "train_new.shape"
   ]
  },
  {
   "cell_type": "code",
   "execution_count": 17,
   "id": "d0207d7f",
   "metadata": {},
   "outputs": [
    {
     "data": {
      "text/plain": [
       "(41, 2)"
      ]
     },
     "execution_count": 17,
     "metadata": {},
     "output_type": "execute_result"
    }
   ],
   "source": [
    "valid.shape"
   ]
  },
  {
   "cell_type": "code",
   "execution_count": 18,
   "id": "33a52653",
   "metadata": {},
   "outputs": [
    {
     "data": {
      "text/plain": [
       "(51, 2)"
      ]
     },
     "execution_count": 18,
     "metadata": {},
     "output_type": "execute_result"
    }
   ],
   "source": [
    "test.shape"
   ]
  },
  {
   "cell_type": "code",
   "execution_count": 19,
   "id": "29b47ce4",
   "metadata": {},
   "outputs": [],
   "source": [
    "train_datagen = ImageDataGenerator(rescale=1./255,rotation_range=40,width_shift_range=0.2,height_shift_range=0.2,shear_range=0.2,zoom_range=0.2,horizontal_flip=True,vertical_flip=True)\n",
    "test_datagen=ImageDataGenerator(rescale=1./255)"
   ]
  },
  {
   "cell_type": "code",
   "execution_count": 20,
   "id": "b65fb3d2",
   "metadata": {},
   "outputs": [
    {
     "name": "stdout",
     "output_type": "stream",
     "text": [
      "Found 161 validated image filenames belonging to 2 classes.\n",
      "Found 41 validated image filenames belonging to 2 classes.\n",
      "Found 51 validated image filenames belonging to 2 classes.\n"
     ]
    }
   ],
   "source": [
    "train_gen = train_datagen.flow_from_dataframe(dataframe=train_new,x_col='Filepaths',y_col='Label',target_size=(150,150),batch_size=16,class_mode='binary',shuffle=True)\n",
    "valid_gen = train_datagen.flow_from_dataframe(valid,x_col='Filepaths',y_col='Label',target_size=(150,150),batch_size=16,class_mode='binary',shuffle=True)\n",
    "test_gen = test_datagen.flow_from_dataframe(test,x_col='Filepaths',y_col='Label',target_size=(150,150),batch_size=16,class_mode='binary',shuffle=False)"
   ]
  },
  {
   "cell_type": "code",
   "execution_count": 21,
   "id": "e36ceba5",
   "metadata": {},
   "outputs": [
    {
     "data": {
      "text/plain": [
       "{'No': 0, 'Yes': 1}"
      ]
     },
     "execution_count": 21,
     "metadata": {},
     "output_type": "execute_result"
    }
   ],
   "source": [
    "train_gen.class_indices"
   ]
  },
  {
   "cell_type": "code",
   "execution_count": 22,
   "id": "991754b5",
   "metadata": {},
   "outputs": [],
   "source": [
    "from keras import layers\n",
    "from keras import models    "
   ]
  },
  {
   "cell_type": "code",
   "execution_count": null,
   "id": "437ec665",
   "metadata": {},
   "outputs": [],
   "source": []
  },
  {
   "cell_type": "code",
   "execution_count": 23,
   "id": "637382a8",
   "metadata": {
    "scrolled": true
   },
   "outputs": [
    {
     "name": "stdout",
     "output_type": "stream",
     "text": [
      "Model: \"sequential\"\n",
      "_________________________________________________________________\n",
      "Layer (type)                 Output Shape              Param #   \n",
      "=================================================================\n",
      "inception_resnet_v2 (Functio (None, 4, 4, 1536)        54336736  \n",
      "_________________________________________________________________\n",
      "global_average_pooling2d (Gl (None, 1536)              0         \n",
      "_________________________________________________________________\n",
      "dense (Dense)                (None, 128)               196736    \n",
      "_________________________________________________________________\n",
      "batch_normalization_203 (Bat (None, 128)               512       \n",
      "_________________________________________________________________\n",
      "dropout (Dropout)            (None, 128)               0         \n",
      "_________________________________________________________________\n",
      "dense_1 (Dense)              (None, 1)                 129       \n",
      "=================================================================\n",
      "Total params: 54,534,113\n",
      "Trainable params: 54,473,313\n",
      "Non-trainable params: 60,800\n",
      "_________________________________________________________________\n"
     ]
    }
   ],
   "source": [
    "base_model = tf.keras.applications.InceptionResNetV2(weights='imagenet', input_shape = (200,200,3),\n",
    "                                                     include_top=False)\n",
    "    \n",
    "model = models.Sequential()\n",
    "model.add(base_model)\n",
    "model.add(layers.GlobalAveragePooling2D())\n",
    "model.add(layers.Dense(128, activation = 'relu'))\n",
    "model.add(layers.BatchNormalization())\n",
    "model.add(layers.Dropout(0.2))\n",
    "model.add(layers.Dense(1, activation = 'sigmoid'))\n",
    "model.summary()"
   ]
  },
  {
   "cell_type": "code",
   "execution_count": null,
   "id": "52840e12",
   "metadata": {},
   "outputs": [],
   "source": []
  },
  {
   "cell_type": "code",
   "execution_count": 24,
   "id": "603173c1",
   "metadata": {},
   "outputs": [],
   "source": [
    "from keras import optimizers\n",
    "model.compile(loss='binary_crossentropy', optimizer='adam', metrics=['accuracy'])"
   ]
  },
  {
   "cell_type": "code",
   "execution_count": 25,
   "id": "037c3272",
   "metadata": {},
   "outputs": [
    {
     "name": "stdout",
     "output_type": "stream",
     "text": [
      "Epoch 1/15\n",
      "11/11 [==============================] - ETA: 0s - loss: 0.8843 - accuracy: 0.6335WARNING:tensorflow:Your input ran out of data; interrupting training. Make sure that your dataset or generator can generate at least `steps_per_epoch * epochs` batches (in this case, 100 batches). You may need to use the repeat() function when building your dataset.\n",
      "11/11 [==============================] - 31s 3s/step - loss: 0.8843 - accuracy: 0.6335 - val_loss: 15.5930 - val_accuracy: 0.4878\n",
      "Epoch 2/15\n",
      "11/11 [==============================] - 27s 2s/step - loss: 0.6537 - accuracy: 0.6584\n",
      "Epoch 3/15\n",
      "11/11 [==============================] - 27s 2s/step - loss: 0.5193 - accuracy: 0.7702\n",
      "Epoch 4/15\n",
      "11/11 [==============================] - 28s 3s/step - loss: 0.4526 - accuracy: 0.7950\n",
      "Epoch 5/15\n",
      "11/11 [==============================] - 28s 3s/step - loss: 0.3492 - accuracy: 0.8323\n",
      "Epoch 6/15\n",
      "11/11 [==============================] - 28s 3s/step - loss: 0.2862 - accuracy: 0.8882\n",
      "Epoch 7/15\n",
      "11/11 [==============================] - 29s 3s/step - loss: 0.2850 - accuracy: 0.8882\n",
      "Epoch 8/15\n",
      "11/11 [==============================] - 28s 3s/step - loss: 0.2641 - accuracy: 0.8944\n",
      "Epoch 9/15\n",
      "11/11 [==============================] - 28s 3s/step - loss: 0.2981 - accuracy: 0.8820\n",
      "Epoch 10/15\n",
      "11/11 [==============================] - 28s 3s/step - loss: 0.1941 - accuracy: 0.9255\n",
      "Epoch 11/15\n",
      "11/11 [==============================] - 27s 2s/step - loss: 0.3041 - accuracy: 0.8944\n",
      "Epoch 12/15\n",
      "11/11 [==============================] - 29s 3s/step - loss: 0.1915 - accuracy: 0.9193\n",
      "Epoch 13/15\n",
      "11/11 [==============================] - 30s 3s/step - loss: 0.2111 - accuracy: 0.9068\n",
      "Epoch 14/15\n",
      "11/11 [==============================] - 29s 3s/step - loss: 0.1789 - accuracy: 0.9503\n",
      "Epoch 15/15\n",
      "11/11 [==============================] - 28s 3s/step - loss: 0.1413 - accuracy: 0.9193\n"
     ]
    }
   ],
   "source": [
    "history = model.fit(train_gen,epochs=15,validation_data=valid_gen,validation_steps=100)"
   ]
  },
  {
   "cell_type": "code",
   "execution_count": 28,
   "id": "54759d0d",
   "metadata": {},
   "outputs": [],
   "source": [
    "model.save(\"Tumor_classifier_model.h5\")"
   ]
  },
  {
   "cell_type": "code",
   "execution_count": null,
   "id": "27baa26c",
   "metadata": {},
   "outputs": [],
   "source": []
  },
  {
   "cell_type": "code",
   "execution_count": 30,
   "id": "100c59fe",
   "metadata": {},
   "outputs": [
    {
     "name": "stdout",
     "output_type": "stream",
     "text": [
      "4/4 [==============================] - 1s 259ms/step - loss: 0.7232 - accuracy: 0.8431\n"
     ]
    },
    {
     "data": {
      "text/plain": [
       "[0.7232047319412231, 0.843137264251709]"
      ]
     },
     "execution_count": 30,
     "metadata": {},
     "output_type": "execute_result"
    }
   ],
   "source": [
    "model.load_weights(\"Tumor_classifier_model.h5\")\n",
    "model.evaluate(test_gen)"
   ]
  },
  {
   "cell_type": "code",
   "execution_count": null,
   "id": "657f18c4",
   "metadata": {},
   "outputs": [],
   "source": []
  },
  {
   "cell_type": "code",
   "execution_count": null,
   "id": "90cc3224",
   "metadata": {},
   "outputs": [],
   "source": []
  }
 ],
 "metadata": {
  "kernelspec": {
   "display_name": "Python 3",
   "language": "python",
   "name": "python3"
  },
  "language_info": {
   "codemirror_mode": {
    "name": "ipython",
    "version": 3
   },
   "file_extension": ".py",
   "mimetype": "text/x-python",
   "name": "python",
   "nbconvert_exporter": "python",
   "pygments_lexer": "ipython3",
   "version": "3.8.10"
  }
 },
 "nbformat": 4,
 "nbformat_minor": 5
}
